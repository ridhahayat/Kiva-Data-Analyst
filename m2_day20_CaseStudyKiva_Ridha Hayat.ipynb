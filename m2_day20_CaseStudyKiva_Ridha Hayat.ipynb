{
 "cells": [
  {
   "cell_type": "markdown",
   "metadata": {},
   "source": [
    "## **MODULE 2 : CASE STUDY KIVA**\n",
    "---"
   ]
  },
  {
   "cell_type": "code",
   "execution_count": 2,
   "metadata": {},
   "outputs": [],
   "source": [
    "# import library\n",
    "import pandas as pd\n",
    "import numpy as np\n",
    "\n",
    "# visualization\n",
    "import seaborn as sns\n",
    "import matplotlib.pyplot as plt\n",
    "\n",
    "import warnings\n",
    "warnings.filterwarnings('ignore')\n",
    "\n",
    "pd.set_option('display.max_columns', 100)"
   ]
  },
  {
   "cell_type": "markdown",
   "metadata": {},
   "source": [
    "Deskripsi kolom: \n",
    "Berikut adalah deskripsi dari masing-masing kolom:\n",
    "- `id`: Unique ID untuk masing-masing loan (loan ID)\n",
    "- `funded_amount`: Jumlah yang dicairkan oleh Kiva ke agen (USD)\n",
    "- `loan_amount`: Jumlah yang disalurkan oleh agen ke peminjam (USD)\n",
    "\tKeterangan tambahan:\n",
    "    - loan_amount adalah jumlah dana yang dibutuhkan oleh borrower (peminjam).\n",
    "    - funded_amount biasanya sama atau lebih kecil dari loan_amount:\n",
    "\n",
    "\n",
    "Sama: Jika seluruh jumlah yang dibutuhkan berhasil terkumpul.\n",
    "Lebih kecil: Jika belum seluruhnya terkumpul, tetapi Kiva memutuskan tetap mendistribusikan sebagian yang sudah terkumpul.\n",
    "\n",
    "- `activity`: Kategori lebih spesifik dari `sector`\n",
    "- `sector`: Kategori dari loan\n",
    "- `country`: Nama negara lengkap, tempat pinjaman dicairkan\n",
    "- `region`: Nama wilayah lengkap dari `country`\n",
    "- `currency`: Mata uang\n",
    "- `partner_id`: ID untuk organisasi partner\n",
    "- `posted_time`: Waktu pinjaman di-posting di Kiva oleh agen\n",
    "- `funded_time`: Waktu pinjaman telah sepenuhnya dibiayai oleh pemberi pinjaman\n",
    "- `term_in_months`: Durasi pencairan pinjaman (dalam satuan bulan)\n",
    "- `lender_count`: Banyaknya peminjam yang berkontribusi\n",
    "- `repayment_interval`: Cara pelunasan peminjaman"
   ]
  },
  {
   "cell_type": "markdown",
   "metadata": {},
   "source": [
    "Latar Belakang Masalah\n",
    "\n",
    "Industri tekstil memiliki peran penting dalam perekonomian, terutama dalam skala home industry yang berkontribusi dalam menciptakan lapangan kerja dan meningkatkan kesejahteraan masyarakat. Namun, salah satu tantangan utama bagi pelaku home industry adalah akses terhadap pendanaan untuk pengembangan usaha mereka. Platform seperti Kiva menyediakan solusi dengan menawarkan sistem pinjaman mikro bagi pelaku usaha kecil di berbagai sektor, termasuk industri tekstil.\n",
    "\n",
    "Sebagai pemilik perusahaan tekstil, penting untuk mengidentifikasi home industry yang berpotensi menjadi mitra bisnis. Dengan menganalisis data dari platform Kiva, kita dapat melihat tren pendanaan yang telah diberikan kepada sektor terkait, memahami karakteristik peminjam, serta menilai seberapa besar peluang kerja sama dengan mereka.\n",
    "\n",
    "Oleh karena itu, penelitian ini bertujuan untuk mengeksplorasi tren pinjaman dalam industri tekstil menggunakan data dari Kiva. Analisis statistik akan digunakan untuk menilai aspek-aspek seperti jumlah pendanaan, negara asal peminjam, aktivitas usaha, dan pola pembayaran. Dengan demikian, kita dapat menentukan pelaku home industry yang memiliki prospek terbaik untuk dijadikan mitra bisnis dalam industri tekstil."
   ]
  },
  {
   "cell_type": "code",
   "execution_count": 3,
   "metadata": {},
   "outputs": [
    {
     "data": {
      "text/html": [
       "<div>\n",
       "<style scoped>\n",
       "    .dataframe tbody tr th:only-of-type {\n",
       "        vertical-align: middle;\n",
       "    }\n",
       "\n",
       "    .dataframe tbody tr th {\n",
       "        vertical-align: top;\n",
       "    }\n",
       "\n",
       "    .dataframe thead th {\n",
       "        text-align: right;\n",
       "    }\n",
       "</style>\n",
       "<table border=\"1\" class=\"dataframe\">\n",
       "  <thead>\n",
       "    <tr style=\"text-align: right;\">\n",
       "      <th></th>\n",
       "      <th>id</th>\n",
       "      <th>funded_amount</th>\n",
       "      <th>loan_amount</th>\n",
       "      <th>activity</th>\n",
       "      <th>sector</th>\n",
       "      <th>use</th>\n",
       "      <th>country</th>\n",
       "      <th>region</th>\n",
       "      <th>currency</th>\n",
       "      <th>partner_id</th>\n",
       "      <th>posted_time</th>\n",
       "      <th>funded_time</th>\n",
       "      <th>term_in_months</th>\n",
       "      <th>lender_count</th>\n",
       "      <th>repayment_interval</th>\n",
       "    </tr>\n",
       "  </thead>\n",
       "  <tbody>\n",
       "    <tr>\n",
       "      <th>0</th>\n",
       "      <td>653051</td>\n",
       "      <td>300.0</td>\n",
       "      <td>300.0</td>\n",
       "      <td>Fruits &amp; Vegetables</td>\n",
       "      <td>Food</td>\n",
       "      <td>To buy seasonal, fresh fruits to sell.</td>\n",
       "      <td>Pakistan</td>\n",
       "      <td>Lahore</td>\n",
       "      <td>PKR</td>\n",
       "      <td>247.0</td>\n",
       "      <td>2014-01-01 06:12:39+00:00</td>\n",
       "      <td>2014-01-02 10:06:32+00:00</td>\n",
       "      <td>12.0</td>\n",
       "      <td>12</td>\n",
       "      <td>irregular</td>\n",
       "    </tr>\n",
       "    <tr>\n",
       "      <th>1</th>\n",
       "      <td>653053</td>\n",
       "      <td>575.0</td>\n",
       "      <td>575.0</td>\n",
       "      <td>Rickshaw</td>\n",
       "      <td>Transportation</td>\n",
       "      <td>to repair and maintain the auto rickshaw used ...</td>\n",
       "      <td>Pakistan</td>\n",
       "      <td>Lahore</td>\n",
       "      <td>PKR</td>\n",
       "      <td>247.0</td>\n",
       "      <td>2014-01-01 06:51:08+00:00</td>\n",
       "      <td>2014-01-02 09:17:23+00:00</td>\n",
       "      <td>11.0</td>\n",
       "      <td>14</td>\n",
       "      <td>irregular</td>\n",
       "    </tr>\n",
       "    <tr>\n",
       "      <th>2</th>\n",
       "      <td>653068</td>\n",
       "      <td>150.0</td>\n",
       "      <td>150.0</td>\n",
       "      <td>Transportation</td>\n",
       "      <td>Transportation</td>\n",
       "      <td>To repair their old cycle-van and buy another ...</td>\n",
       "      <td>India</td>\n",
       "      <td>Maynaguri</td>\n",
       "      <td>INR</td>\n",
       "      <td>334.0</td>\n",
       "      <td>2014-01-01 09:58:07+00:00</td>\n",
       "      <td>2014-01-01 16:01:36+00:00</td>\n",
       "      <td>43.0</td>\n",
       "      <td>6</td>\n",
       "      <td>bullet</td>\n",
       "    </tr>\n",
       "    <tr>\n",
       "      <th>3</th>\n",
       "      <td>653063</td>\n",
       "      <td>200.0</td>\n",
       "      <td>200.0</td>\n",
       "      <td>Embroidery</td>\n",
       "      <td>Arts</td>\n",
       "      <td>to purchase an embroidery machine and a variet...</td>\n",
       "      <td>Pakistan</td>\n",
       "      <td>Lahore</td>\n",
       "      <td>PKR</td>\n",
       "      <td>247.0</td>\n",
       "      <td>2014-01-01 08:03:11+00:00</td>\n",
       "      <td>2014-01-01 13:00:00+00:00</td>\n",
       "      <td>11.0</td>\n",
       "      <td>8</td>\n",
       "      <td>irregular</td>\n",
       "    </tr>\n",
       "    <tr>\n",
       "      <th>4</th>\n",
       "      <td>653084</td>\n",
       "      <td>400.0</td>\n",
       "      <td>400.0</td>\n",
       "      <td>Milk Sales</td>\n",
       "      <td>Food</td>\n",
       "      <td>to purchase one buffalo.</td>\n",
       "      <td>Pakistan</td>\n",
       "      <td>Abdul Hakeem</td>\n",
       "      <td>PKR</td>\n",
       "      <td>245.0</td>\n",
       "      <td>2014-01-01 11:53:19+00:00</td>\n",
       "      <td>2014-01-01 19:18:51+00:00</td>\n",
       "      <td>14.0</td>\n",
       "      <td>16</td>\n",
       "      <td>monthly</td>\n",
       "    </tr>\n",
       "  </tbody>\n",
       "</table>\n",
       "</div>"
      ],
      "text/plain": [
       "       id  funded_amount  loan_amount             activity          sector  \\\n",
       "0  653051          300.0        300.0  Fruits & Vegetables            Food   \n",
       "1  653053          575.0        575.0             Rickshaw  Transportation   \n",
       "2  653068          150.0        150.0       Transportation  Transportation   \n",
       "3  653063          200.0        200.0           Embroidery            Arts   \n",
       "4  653084          400.0        400.0           Milk Sales            Food   \n",
       "\n",
       "                                                 use   country        region  \\\n",
       "0            To buy seasonal, fresh fruits to sell.   Pakistan        Lahore   \n",
       "1  to repair and maintain the auto rickshaw used ...  Pakistan        Lahore   \n",
       "2  To repair their old cycle-van and buy another ...     India     Maynaguri   \n",
       "3  to purchase an embroidery machine and a variet...  Pakistan        Lahore   \n",
       "4                           to purchase one buffalo.  Pakistan  Abdul Hakeem   \n",
       "\n",
       "  currency  partner_id                posted_time                funded_time  \\\n",
       "0      PKR       247.0  2014-01-01 06:12:39+00:00  2014-01-02 10:06:32+00:00   \n",
       "1      PKR       247.0  2014-01-01 06:51:08+00:00  2014-01-02 09:17:23+00:00   \n",
       "2      INR       334.0  2014-01-01 09:58:07+00:00  2014-01-01 16:01:36+00:00   \n",
       "3      PKR       247.0  2014-01-01 08:03:11+00:00  2014-01-01 13:00:00+00:00   \n",
       "4      PKR       245.0  2014-01-01 11:53:19+00:00  2014-01-01 19:18:51+00:00   \n",
       "\n",
       "   term_in_months  lender_count repayment_interval  \n",
       "0            12.0            12          irregular  \n",
       "1            11.0            14          irregular  \n",
       "2            43.0             6             bullet  \n",
       "3            11.0             8          irregular  \n",
       "4            14.0            16            monthly  "
      ]
     },
     "execution_count": 3,
     "metadata": {},
     "output_type": "execute_result"
    }
   ],
   "source": [
    "df = pd.read_csv('kiva_loan.csv')\n",
    "df.head(5)"
   ]
  },
  {
   "cell_type": "markdown",
   "metadata": {},
   "source": [
    "DATA UNDERSTANDING"
   ]
  },
  {
   "cell_type": "code",
   "execution_count": 4,
   "metadata": {},
   "outputs": [
    {
     "name": "stdout",
     "output_type": "stream",
     "text": [
      "<class 'pandas.core.frame.DataFrame'>\n",
      "RangeIndex: 671205 entries, 0 to 671204\n",
      "Data columns (total 15 columns):\n",
      " #   Column              Non-Null Count   Dtype  \n",
      "---  ------              --------------   -----  \n",
      " 0   id                  671205 non-null  int64  \n",
      " 1   funded_amount       671205 non-null  float64\n",
      " 2   loan_amount         671205 non-null  float64\n",
      " 3   activity            671205 non-null  object \n",
      " 4   sector              671205 non-null  object \n",
      " 5   use                 666973 non-null  object \n",
      " 6   country             671205 non-null  object \n",
      " 7   region              614405 non-null  object \n",
      " 8   currency            671205 non-null  object \n",
      " 9   partner_id          657698 non-null  float64\n",
      " 10  posted_time         671205 non-null  object \n",
      " 11  funded_time         622874 non-null  object \n",
      " 12  term_in_months      671205 non-null  float64\n",
      " 13  lender_count        671205 non-null  int64  \n",
      " 14  repayment_interval  671205 non-null  object \n",
      "dtypes: float64(4), int64(2), object(9)\n",
      "memory usage: 76.8+ MB\n"
     ]
    }
   ],
   "source": [
    "df.info()"
   ]
  },
  {
   "cell_type": "code",
   "execution_count": 5,
   "metadata": {},
   "outputs": [
    {
     "data": {
      "text/html": [
       "<div>\n",
       "<style scoped>\n",
       "    .dataframe tbody tr th:only-of-type {\n",
       "        vertical-align: middle;\n",
       "    }\n",
       "\n",
       "    .dataframe tbody tr th {\n",
       "        vertical-align: top;\n",
       "    }\n",
       "\n",
       "    .dataframe thead th {\n",
       "        text-align: right;\n",
       "    }\n",
       "</style>\n",
       "<table border=\"1\" class=\"dataframe\">\n",
       "  <thead>\n",
       "    <tr style=\"text-align: right;\">\n",
       "      <th></th>\n",
       "      <th>id</th>\n",
       "      <th>funded_amount</th>\n",
       "      <th>loan_amount</th>\n",
       "      <th>partner_id</th>\n",
       "      <th>term_in_months</th>\n",
       "      <th>lender_count</th>\n",
       "    </tr>\n",
       "  </thead>\n",
       "  <tbody>\n",
       "    <tr>\n",
       "      <th>count</th>\n",
       "      <td>6.712050e+05</td>\n",
       "      <td>671205.000000</td>\n",
       "      <td>671205.000000</td>\n",
       "      <td>657698.000000</td>\n",
       "      <td>671205.000000</td>\n",
       "      <td>671205.000000</td>\n",
       "    </tr>\n",
       "    <tr>\n",
       "      <th>mean</th>\n",
       "      <td>9.932486e+05</td>\n",
       "      <td>785.995061</td>\n",
       "      <td>842.397107</td>\n",
       "      <td>178.199616</td>\n",
       "      <td>13.739022</td>\n",
       "      <td>20.590922</td>\n",
       "    </tr>\n",
       "    <tr>\n",
       "      <th>std</th>\n",
       "      <td>1.966113e+05</td>\n",
       "      <td>1130.398941</td>\n",
       "      <td>1198.660073</td>\n",
       "      <td>94.247581</td>\n",
       "      <td>8.598919</td>\n",
       "      <td>28.459551</td>\n",
       "    </tr>\n",
       "    <tr>\n",
       "      <th>min</th>\n",
       "      <td>6.530470e+05</td>\n",
       "      <td>0.000000</td>\n",
       "      <td>25.000000</td>\n",
       "      <td>9.000000</td>\n",
       "      <td>1.000000</td>\n",
       "      <td>0.000000</td>\n",
       "    </tr>\n",
       "    <tr>\n",
       "      <th>25%</th>\n",
       "      <td>8.230720e+05</td>\n",
       "      <td>250.000000</td>\n",
       "      <td>275.000000</td>\n",
       "      <td>126.000000</td>\n",
       "      <td>8.000000</td>\n",
       "      <td>7.000000</td>\n",
       "    </tr>\n",
       "    <tr>\n",
       "      <th>50%</th>\n",
       "      <td>9.927800e+05</td>\n",
       "      <td>450.000000</td>\n",
       "      <td>500.000000</td>\n",
       "      <td>145.000000</td>\n",
       "      <td>13.000000</td>\n",
       "      <td>13.000000</td>\n",
       "    </tr>\n",
       "    <tr>\n",
       "      <th>75%</th>\n",
       "      <td>1.163653e+06</td>\n",
       "      <td>900.000000</td>\n",
       "      <td>1000.000000</td>\n",
       "      <td>204.000000</td>\n",
       "      <td>14.000000</td>\n",
       "      <td>24.000000</td>\n",
       "    </tr>\n",
       "    <tr>\n",
       "      <th>max</th>\n",
       "      <td>1.340339e+06</td>\n",
       "      <td>100000.000000</td>\n",
       "      <td>100000.000000</td>\n",
       "      <td>536.000000</td>\n",
       "      <td>158.000000</td>\n",
       "      <td>2986.000000</td>\n",
       "    </tr>\n",
       "  </tbody>\n",
       "</table>\n",
       "</div>"
      ],
      "text/plain": [
       "                 id  funded_amount    loan_amount     partner_id  \\\n",
       "count  6.712050e+05  671205.000000  671205.000000  657698.000000   \n",
       "mean   9.932486e+05     785.995061     842.397107     178.199616   \n",
       "std    1.966113e+05    1130.398941    1198.660073      94.247581   \n",
       "min    6.530470e+05       0.000000      25.000000       9.000000   \n",
       "25%    8.230720e+05     250.000000     275.000000     126.000000   \n",
       "50%    9.927800e+05     450.000000     500.000000     145.000000   \n",
       "75%    1.163653e+06     900.000000    1000.000000     204.000000   \n",
       "max    1.340339e+06  100000.000000  100000.000000     536.000000   \n",
       "\n",
       "       term_in_months   lender_count  \n",
       "count   671205.000000  671205.000000  \n",
       "mean        13.739022      20.590922  \n",
       "std          8.598919      28.459551  \n",
       "min          1.000000       0.000000  \n",
       "25%          8.000000       7.000000  \n",
       "50%         13.000000      13.000000  \n",
       "75%         14.000000      24.000000  \n",
       "max        158.000000    2986.000000  "
      ]
     },
     "execution_count": 5,
     "metadata": {},
     "output_type": "execute_result"
    }
   ],
   "source": [
    "df.describe()"
   ]
  },
  {
   "cell_type": "code",
   "execution_count": 6,
   "metadata": {},
   "outputs": [
    {
     "data": {
      "text/plain": [
       "array(['Fruits & Vegetables', 'Rickshaw', 'Transportation', 'Embroidery',\n",
       "       'Milk Sales', 'Services', 'Dairy', 'Beauty Salon', 'Manufacturing',\n",
       "       'Food Production/Sales', 'Wholesale', 'General Store',\n",
       "       'Clothing Sales', 'Poultry', 'Tailoring', 'Sewing', 'Bakery',\n",
       "       'Restaurant', 'Food Stall', 'Farming', 'Construction Supplies',\n",
       "       'Personal Products Sales', 'Home Products Sales',\n",
       "       'Natural Medicines', 'Fish Selling', 'Education provider',\n",
       "       'Shoe Sales', 'Machinery Rental', 'Butcher Shop', 'Pigs',\n",
       "       'Personal Expenses', 'Food Market', 'Cosmetics Sales',\n",
       "       'Personal Housing Expenses', 'Retail', 'Energy', 'Grocery Store',\n",
       "       'Construction', 'Agriculture', 'Motorcycle Transport',\n",
       "       'Charcoal Sales', 'Food', 'Pharmacy', 'Fishing', 'Timber Sales',\n",
       "       'Cattle', 'Electronics Repair', 'Electronics Sales', 'Vehicle',\n",
       "       'Cafe', 'Blacksmith', 'Higher education costs', 'Used Clothing',\n",
       "       'Fuel/Firewood', 'Upholstery', 'Catering', 'Animal Sales',\n",
       "       'Cereals', 'Vehicle Repairs', 'Arts',\n",
       "       'Cloth & Dressmaking Supplies', 'Mobile Phones', 'Spare Parts',\n",
       "       'Clothing', 'Metal Shop', 'Barber Shop', 'Furniture Making',\n",
       "       'Crafts', 'Home Energy', 'Home Appliances', 'Wedding Expenses',\n",
       "       'Taxi', 'Secretarial Services', 'Livestock', 'Property',\n",
       "       'Recycling', 'Farm Supplies', 'Auto Repair', 'Beverages',\n",
       "       'Plastics Sales', 'Electrical Goods', 'Carpentry', 'Photography',\n",
       "       'Jewelry', 'Bricks', 'Pub', 'Phone Use Sales',\n",
       "       'Water Distribution', 'Paper Sales', 'Computers',\n",
       "       'Liquor Store / Off-License', 'Utilities', 'Knitting', 'Weaving',\n",
       "       'Party Supplies', 'Medical Clinic', 'Internet Cafe',\n",
       "       'Consumer Goods', 'Cement', 'Electrician',\n",
       "       'Primary/secondary school costs', 'Veterinary Sales',\n",
       "       'Land Rental', 'Laundry', 'Call Center', 'Perfumes', 'Hotel',\n",
       "       'Motorcycle Repair', 'Movie Tapes & DVDs', 'Quarrying',\n",
       "       'Personal Medical Expenses', 'Bookstore', 'Decorations Sales',\n",
       "       'Recycled Materials', 'Office Supplies', 'Souvenir Sales',\n",
       "       'Renewable Energy Products', 'Health', 'Printing', 'Phone Repair',\n",
       "       'Traveling Sales', 'Flowers', 'Bicycle Repair', 'Entertainment',\n",
       "       'Phone Accessories', 'Hardware', 'Used Shoes',\n",
       "       'Music Discs & Tapes', 'Games', 'Balut-Making', 'Textiles',\n",
       "       'Child Care', 'Goods Distribution', 'Florist', 'Cobbler', 'Dental',\n",
       "       'Bookbinding', 'Cheese Making', 'Bicycle Sales', 'Well digging',\n",
       "       'Technology', 'Musical Performance', 'Waste Management', 'Film',\n",
       "       'Tourism', 'Musical Instruments', 'Religious Articles',\n",
       "       'Machine Shop', 'Cleaning Services', 'Sporting Good Sales',\n",
       "       'Patchwork', 'Funerals', 'Air Conditioning', 'Communications',\n",
       "       'Adult Care', 'Landscaping / Gardening', 'Aquaculture',\n",
       "       'Beekeeping', 'Event Planning', 'Celebrations', 'Computer',\n",
       "       'Personal Care Products', 'Mobile Transactions'], dtype=object)"
      ]
     },
     "execution_count": 6,
     "metadata": {},
     "output_type": "execute_result"
    }
   ],
   "source": [
    "df['activity'].unique()"
   ]
  },
  {
   "cell_type": "markdown",
   "metadata": {},
   "source": [
    "## **DATA WRAGLING**"
   ]
  },
  {
   "cell_type": "code",
   "execution_count": 7,
   "metadata": {},
   "outputs": [
    {
     "data": {
      "text/plain": [
       "id                        0\n",
       "funded_amount             0\n",
       "loan_amount               0\n",
       "activity                  0\n",
       "sector                    0\n",
       "use                    4232\n",
       "country                   0\n",
       "region                56800\n",
       "currency                  0\n",
       "partner_id            13507\n",
       "posted_time               0\n",
       "funded_time           48331\n",
       "term_in_months            0\n",
       "lender_count              0\n",
       "repayment_interval        0\n",
       "dtype: int64"
      ]
     },
     "execution_count": 7,
     "metadata": {},
     "output_type": "execute_result"
    }
   ],
   "source": [
    "df.isna().sum()"
   ]
  },
  {
   "cell_type": "code",
   "execution_count": 8,
   "metadata": {},
   "outputs": [],
   "source": [
    "df[\"partner_id\"].fillna(\"Tanpa ID\", inplace=True)\n",
    "df[\"region\"].fillna(\"-\", inplace=True)\n",
    "df[\"funded_time\"].fillna(\"-\", inplace=True)\n",
    "df['use'].fillna('-', inplace=True)"
   ]
  },
  {
   "cell_type": "code",
   "execution_count": 9,
   "metadata": {},
   "outputs": [
    {
     "data": {
      "text/plain": [
       "id                    0\n",
       "funded_amount         0\n",
       "loan_amount           0\n",
       "activity              0\n",
       "sector                0\n",
       "use                   0\n",
       "country               0\n",
       "region                0\n",
       "currency              0\n",
       "partner_id            0\n",
       "posted_time           0\n",
       "funded_time           0\n",
       "term_in_months        0\n",
       "lender_count          0\n",
       "repayment_interval    0\n",
       "dtype: int64"
      ]
     },
     "execution_count": 9,
     "metadata": {},
     "output_type": "execute_result"
    }
   ],
   "source": [
    "df.isna().sum()"
   ]
  },
  {
   "cell_type": "code",
   "execution_count": 10,
   "metadata": {},
   "outputs": [
    {
     "data": {
      "text/html": [
       "<div>\n",
       "<style scoped>\n",
       "    .dataframe tbody tr th:only-of-type {\n",
       "        vertical-align: middle;\n",
       "    }\n",
       "\n",
       "    .dataframe tbody tr th {\n",
       "        vertical-align: top;\n",
       "    }\n",
       "\n",
       "    .dataframe thead th {\n",
       "        text-align: right;\n",
       "    }\n",
       "</style>\n",
       "<table border=\"1\" class=\"dataframe\">\n",
       "  <thead>\n",
       "    <tr style=\"text-align: right;\">\n",
       "      <th></th>\n",
       "      <th>id</th>\n",
       "      <th>funded_amount</th>\n",
       "      <th>loan_amount</th>\n",
       "      <th>activity</th>\n",
       "      <th>sector</th>\n",
       "      <th>use</th>\n",
       "      <th>country</th>\n",
       "      <th>region</th>\n",
       "      <th>currency</th>\n",
       "      <th>partner_id</th>\n",
       "      <th>posted_time</th>\n",
       "      <th>funded_time</th>\n",
       "      <th>term_in_months</th>\n",
       "      <th>lender_count</th>\n",
       "      <th>repayment_interval</th>\n",
       "    </tr>\n",
       "  </thead>\n",
       "  <tbody>\n",
       "    <tr>\n",
       "      <th>1049</th>\n",
       "      <td>654177</td>\n",
       "      <td>2100.0</td>\n",
       "      <td>2100.0</td>\n",
       "      <td>Weaving</td>\n",
       "      <td>Arts</td>\n",
       "      <td>To purchase more yarn and threads</td>\n",
       "      <td>India</td>\n",
       "      <td>Imphal East</td>\n",
       "      <td>INR</td>\n",
       "      <td>238.0</td>\n",
       "      <td>2014-01-06 11:40:54+00:00</td>\n",
       "      <td>2014-01-13 20:07:40+00:00</td>\n",
       "      <td>43.0</td>\n",
       "      <td>70</td>\n",
       "      <td>bullet</td>\n",
       "    </tr>\n",
       "    <tr>\n",
       "      <th>1800</th>\n",
       "      <td>654758</td>\n",
       "      <td>1775.0</td>\n",
       "      <td>1775.0</td>\n",
       "      <td>Weaving</td>\n",
       "      <td>Arts</td>\n",
       "      <td>To purchase different types of yarn, thread an...</td>\n",
       "      <td>India</td>\n",
       "      <td>Imphal East</td>\n",
       "      <td>INR</td>\n",
       "      <td>238.0</td>\n",
       "      <td>2014-01-07 14:07:36+00:00</td>\n",
       "      <td>2014-01-08 22:29:06+00:00</td>\n",
       "      <td>43.0</td>\n",
       "      <td>55</td>\n",
       "      <td>bullet</td>\n",
       "    </tr>\n",
       "    <tr>\n",
       "      <th>2185</th>\n",
       "      <td>655190</td>\n",
       "      <td>1950.0</td>\n",
       "      <td>1950.0</td>\n",
       "      <td>Weaving</td>\n",
       "      <td>Arts</td>\n",
       "      <td>To purchase threads, yarns, other tools for we...</td>\n",
       "      <td>India</td>\n",
       "      <td>Saikul</td>\n",
       "      <td>INR</td>\n",
       "      <td>238.0</td>\n",
       "      <td>2014-01-08 11:01:23+00:00</td>\n",
       "      <td>2014-01-10 06:45:03+00:00</td>\n",
       "      <td>43.0</td>\n",
       "      <td>69</td>\n",
       "      <td>bullet</td>\n",
       "    </tr>\n",
       "  </tbody>\n",
       "</table>\n",
       "</div>"
      ],
      "text/plain": [
       "          id  funded_amount  loan_amount activity sector  \\\n",
       "1049  654177         2100.0       2100.0  Weaving   Arts   \n",
       "1800  654758         1775.0       1775.0  Weaving   Arts   \n",
       "2185  655190         1950.0       1950.0  Weaving   Arts   \n",
       "\n",
       "                                                    use country       region  \\\n",
       "1049                  To purchase more yarn and threads   India  Imphal East   \n",
       "1800  To purchase different types of yarn, thread an...   India  Imphal East   \n",
       "2185  To purchase threads, yarns, other tools for we...   India       Saikul   \n",
       "\n",
       "     currency partner_id                posted_time  \\\n",
       "1049      INR      238.0  2014-01-06 11:40:54+00:00   \n",
       "1800      INR      238.0  2014-01-07 14:07:36+00:00   \n",
       "2185      INR      238.0  2014-01-08 11:01:23+00:00   \n",
       "\n",
       "                    funded_time  term_in_months  lender_count  \\\n",
       "1049  2014-01-13 20:07:40+00:00            43.0            70   \n",
       "1800  2014-01-08 22:29:06+00:00            43.0            55   \n",
       "2185  2014-01-10 06:45:03+00:00            43.0            69   \n",
       "\n",
       "     repayment_interval  \n",
       "1049             bullet  \n",
       "1800             bullet  \n",
       "2185             bullet  "
      ]
     },
     "execution_count": 10,
     "metadata": {},
     "output_type": "execute_result"
    }
   ],
   "source": [
    "df_activity = df[(df['activity'].isin(['Weaving', 'Cloth & Dressmaking Supplies', 'Clothing', 'Clothing Sales'])) & \n",
    "                (df['country'] == 'India')]\n",
    "\n",
    "df_activity.head(3)"
   ]
  },
  {
   "cell_type": "markdown",
   "metadata": {},
   "source": [
    "Penjelasan:\n",
    "- df['activity'].isin([...])\n",
    "\n",
    "- Fungsi isin() digunakan untuk memeriksa apakah nilai dalam kolom 'activity' termasuk dalam daftar yang diberikan (['Weaving', 'Knitting', 'Clothing', 'Clothing Sales'])."
   ]
  },
  {
   "cell_type": "code",
   "execution_count": 11,
   "metadata": {},
   "outputs": [
    {
     "data": {
      "text/plain": [
       "repayment_interval\n",
       "monthly      664\n",
       "bullet       297\n",
       "irregular      1\n",
       "Name: count, dtype: int64"
      ]
     },
     "execution_count": 11,
     "metadata": {},
     "output_type": "execute_result"
    }
   ],
   "source": [
    "df_activity['repayment_interval'].value_counts()"
   ]
  },
  {
   "cell_type": "code",
   "execution_count": 12,
   "metadata": {},
   "outputs": [
    {
     "data": {
      "text/plain": [
       "funded_amount\n",
       "300.0     126\n",
       "325.0     116\n",
       "400.0      80\n",
       "225.0      80\n",
       "250.0      69\n",
       "         ... \n",
       "750.0       1\n",
       "4125.0      1\n",
       "3875.0      1\n",
       "975.0       1\n",
       "500.0       1\n",
       "Name: count, Length: 107, dtype: int64"
      ]
     },
     "execution_count": 12,
     "metadata": {},
     "output_type": "execute_result"
    }
   ],
   "source": [
    "df_activity['funded_amount'].value_counts()"
   ]
  },
  {
   "cell_type": "code",
   "execution_count": 13,
   "metadata": {},
   "outputs": [
    {
     "data": {
      "text/plain": [
       "activity\n",
       "Clothing Sales                  491\n",
       "Weaving                         432\n",
       "Clothing                         28\n",
       "Cloth & Dressmaking Supplies     11\n",
       "Name: count, dtype: int64"
      ]
     },
     "execution_count": 13,
     "metadata": {},
     "output_type": "execute_result"
    }
   ],
   "source": [
    "df_activity['activity'].value_counts()"
   ]
  },
  {
   "cell_type": "markdown",
   "metadata": {},
   "source": [
    "## **Exploratory Data Analysis (EDA)**"
   ]
  },
  {
   "cell_type": "markdown",
   "metadata": {},
   "source": [
    "**A. Analisis Pola Repayment Interval Berdasarkan Term in Months**\n",
    "\n",
    "Tujuan:\n",
    "1. Mengidentifikasi pola pinjaman dengan repayment interval di sektor Weaving, Clothing dll di India.\n",
    "2. Menganalisis durasi pinjaman (term in months) dan karakteristik lender yang mendukung pinjaman tersebut.\n",
    "3. Menilai hubungan antara jumlah pendanaan yang diberikan dengan sektor usaha terkait.\n",
    "4. Memahami kecepatan pendanaan dan faktor yang memengaruhi pola pembayaran pinjaman di sektor tertentu."
   ]
  },
  {
   "cell_type": "code",
   "execution_count": 14,
   "metadata": {},
   "outputs": [
    {
     "data": {
      "image/png": "[encoded data removed]",
      "text/plain": [
       "<Figure size 800x500 with 1 Axes>"
      ]
     },
     "metadata": {},
     "output_type": "display_data"
    }
   ],
   "source": [
    "plt.figure(figsize=(8, 5))\n",
    "fig = sns.barplot(df_activity, x='repayment_interval', y='term_in_months', palette=\"viridis\")\n",
    "plt.title(\"Durasi Pinjaman Berdasarkan Repayment Interval\")\n",
    "plt.grid(axis='y', linestyle='--', alpha=0.7)\n",
    "plt.xlabel(\"Repayment Interval\", fontsize=12)\n",
    "plt.ylabel(\"Durasi Pinjaman (bulan)\", fontsize=12)\n",
    "plt.title(\"Durasi Pinjaman Berdasarkan Repayment Interval\", fontsize=14, fontweight=\"bold\")\n",
    "\n",
    "for container in fig.containers:\n",
    "    fig.bar_label(container,padding = 2)\n",
    "plt.show()\n"
   ]
  },
  {
   "cell_type": "markdown",
   "metadata": {},
   "source": [
    "Insight:\n",
    "\n",
    "Durasi Pinjaman Berdasarkan Repayment Interval\n",
    "- Skema pembayaran Bullet memiliki durasi pinjaman terpanjang (rata-rata sekitar 42.67 bulan), yang mungkin menunjukkan bahwa model ini digunakan untuk pinjaman jangka panjang.\n",
    "- Skema pembayaran Monthly memiliki durasi pinjaman terpendek (rata-rata sekitar 14.54 bulan), menunjukkan bahwa pembayaran bulanan cenderung digunakan untuk pinjaman jangka pendek.\n",
    "- Skema pembayaran Irregular memiliki durasi pinjaman rata-rata 25 bulan, yang berada di antara kedua model lainnya."
   ]
  },
  {
   "cell_type": "markdown",
   "metadata": {},
   "source": [
    "## **Hypotesis Testing**"
   ]
  },
  {
   "cell_type": "code",
   "execution_count": 15,
   "metadata": {},
   "outputs": [
    {
     "name": "stdout",
     "output_type": "stream",
     "text": [
      "p-value Bullet: 1.6718184172048239e-130, p-value Monthly: 7.608720195474957e-164, p-value Irregular: 2.739323284486414e-188\n"
     ]
    }
   ],
   "source": [
    "from scipy.stats import shapiro\n",
    "\n",
    "bullet = df[df['repayment_interval'] == 'bullet']['term_in_months']\n",
    "monthly = df[df['repayment_interval'] == 'monthly']['term_in_months']\n",
    "irregular = df[df['repayment_interval'] == 'irregular']['term_in_months']\n",
    "\n",
    "stat_bul, p_bul = shapiro(bullet)\n",
    "stat_mon, p_mon = shapiro(monthly)\n",
    "stat_reg, p_reg = shapiro(irregular)\n",
    "\n",
    "print(f\"p-value Bullet: {p_bul:}, p-value Monthly: {p_mon:}, p-value Irregular: {p_reg:}\")"
   ]
  },
  {
   "cell_type": "code",
   "execution_count": 16,
   "metadata": {},
   "outputs": [
    {
     "name": "stdout",
     "output_type": "stream",
     "text": [
      "Distribusi Bullet: Tidak Normal (Reject H0)\n",
      "Distribusi Monthly: Tidak Normal (Reject H0)\n",
      "Distribusi Irregular: Tidak Normal (Reject H0)\n"
     ]
    }
   ],
   "source": [
    "alpha = 0.05\n",
    "if p_bul > alpha:\n",
    "    print(\"Distribusi Bullet: Normal (Fail to Reject H0)\")\n",
    "else:\n",
    "    print(\"Distribusi Bullet: Tidak Normal (Reject H0)\")\n",
    "\n",
    "if p_mon > alpha:\n",
    "    print(\"Distribusi Monthly: Normal (Fail to Reject H0)\")\n",
    "else:\n",
    "    print(\"Distribusi Monthly: Tidak Normal (Reject H0)\")\n",
    "if p_reg > alpha:\n",
    "    print(\"Distribusi Irregular: Normal (Fail to Reject H0)\")\n",
    "else:\n",
    "    print(\"Distribusi Irregular: Tidak Normal (Reject H0)\")"
   ]
  },
  {
   "cell_type": "markdown",
   "metadata": {},
   "source": [
    "Insight :\n",
    "- Setelah dilakukan Cek Distribusi Data, maka didapati bahwa data p-value dari repayment inteval `Bullet` dan `Monthly` tidak terdistribusi normal"
   ]
  },
  {
   "cell_type": "code",
   "execution_count": 17,
   "metadata": {},
   "outputs": [
    {
     "name": "stdout",
     "output_type": "stream",
     "text": [
      "P-value: 0.0\n"
     ]
    }
   ],
   "source": [
    "from scipy.stats import f_oneway\n",
    "\n",
    "stat, p_value = f_oneway(bullet, monthly, irregular)\n",
    "print(f'P-value: {p_value}')\n"
   ]
  },
  {
   "cell_type": "code",
   "execution_count": 18,
   "metadata": {},
   "outputs": [
    {
     "name": "stdout",
     "output_type": "stream",
     "text": [
      "Data tidak berdistribusi normal (tolak H0)\n"
     ]
    }
   ],
   "source": [
    "alpha = 0.05\n",
    "if p_value > alpha:\n",
    "    print(\"Data berdistribusi normal (gagal tolak H0)\")\n",
    "else:\n",
    "    print(\"Data tidak berdistribusi normal (tolak H0)\")"
   ]
  },
  {
   "cell_type": "markdown",
   "metadata": {},
   "source": [
    "Setelah dilakukan Cek Distribusi Data, maka didapati bahwa data p-value dari repayment inteval `Bullet`, `Monthly`, `Irregular` yang ada pada DataFrame `df_activity` tidak terdistribusi normal"
   ]
  },
  {
   "cell_type": "markdown",
   "metadata": {},
   "source": [
    "---"
   ]
  },
  {
   "cell_type": "markdown",
   "metadata": {},
   "source": [
    "**B. Analisis funded amount dan loan amount berdasarkan term in month**\n",
    "\n",
    "Tujuan:\n",
    "1. Membandingkan jumlah pendanaan yang diberikan (funded_amount) dengan jumlah pinjaman yang diminta (loan_amount).\n",
    "2. Untuk mengetahui apakah terdapat kesenjangan antara jumlah yang diajukan dan jumlah yang didanai.\n",
    "    - Menilai apakah sebagian besar pinjaman didanai sepenuhnya atau hanya sebagian.\n",
    "    - Menganalisis perbedaan signifikan dalam durasi pinjaman (term_in_months).\n",
    "3. Memahami pola distribusi durasi pinjaman.\n",
    "    - Mengidentifikasi apakah ada perbedaan besar antara pinjaman jangka pendek dan jangka panjang."
   ]
  },
  {
   "cell_type": "code",
   "execution_count": 19,
   "metadata": {},
   "outputs": [
    {
     "data": {
      "text/html": [
       "<div>\n",
       "<style scoped>\n",
       "    .dataframe tbody tr th:only-of-type {\n",
       "        vertical-align: middle;\n",
       "    }\n",
       "\n",
       "    .dataframe tbody tr th {\n",
       "        vertical-align: top;\n",
       "    }\n",
       "\n",
       "    .dataframe thead th {\n",
       "        text-align: right;\n",
       "    }\n",
       "</style>\n",
       "<table border=\"1\" class=\"dataframe\">\n",
       "  <thead>\n",
       "    <tr style=\"text-align: right;\">\n",
       "      <th></th>\n",
       "      <th>funded_amount</th>\n",
       "      <th>loan_amount</th>\n",
       "      <th>term_in_months</th>\n",
       "    </tr>\n",
       "  </thead>\n",
       "  <tbody>\n",
       "    <tr>\n",
       "      <th>count</th>\n",
       "      <td>962.000000</td>\n",
       "      <td>962.000000</td>\n",
       "      <td>962.000000</td>\n",
       "    </tr>\n",
       "    <tr>\n",
       "      <th>mean</th>\n",
       "      <td>593.191268</td>\n",
       "      <td>611.330561</td>\n",
       "      <td>23.240125</td>\n",
       "    </tr>\n",
       "    <tr>\n",
       "      <th>std</th>\n",
       "      <td>694.355609</td>\n",
       "      <td>717.409489</td>\n",
       "      <td>13.224608</td>\n",
       "    </tr>\n",
       "    <tr>\n",
       "      <th>min</th>\n",
       "      <td>100.000000</td>\n",
       "      <td>100.000000</td>\n",
       "      <td>3.000000</td>\n",
       "    </tr>\n",
       "    <tr>\n",
       "      <th>25%</th>\n",
       "      <td>250.000000</td>\n",
       "      <td>250.000000</td>\n",
       "      <td>14.000000</td>\n",
       "    </tr>\n",
       "    <tr>\n",
       "      <th>50%</th>\n",
       "      <td>325.000000</td>\n",
       "      <td>325.000000</td>\n",
       "      <td>15.000000</td>\n",
       "    </tr>\n",
       "    <tr>\n",
       "      <th>75%</th>\n",
       "      <td>475.000000</td>\n",
       "      <td>475.000000</td>\n",
       "      <td>43.000000</td>\n",
       "    </tr>\n",
       "    <tr>\n",
       "      <th>max</th>\n",
       "      <td>4475.000000</td>\n",
       "      <td>4475.000000</td>\n",
       "      <td>44.000000</td>\n",
       "    </tr>\n",
       "  </tbody>\n",
       "</table>\n",
       "</div>"
      ],
      "text/plain": [
       "       funded_amount  loan_amount  term_in_months\n",
       "count     962.000000   962.000000      962.000000\n",
       "mean      593.191268   611.330561       23.240125\n",
       "std       694.355609   717.409489       13.224608\n",
       "min       100.000000   100.000000        3.000000\n",
       "25%       250.000000   250.000000       14.000000\n",
       "50%       325.000000   325.000000       15.000000\n",
       "75%       475.000000   475.000000       43.000000\n",
       "max      4475.000000  4475.000000       44.000000"
      ]
     },
     "execution_count": 19,
     "metadata": {},
     "output_type": "execute_result"
    }
   ],
   "source": [
    "df_activity[['funded_amount', 'loan_amount', 'term_in_months']].describe()"
   ]
  },
  {
   "cell_type": "code",
   "execution_count": 20,
   "metadata": {},
   "outputs": [
    {
     "data": {
      "image/png": "[encoded data removed]",
      "text/plain": [
       "<Figure size 800x600 with 1 Axes>"
      ]
     },
     "metadata": {},
     "output_type": "display_data"
    }
   ],
   "source": [
    "plt.figure(figsize=(8,6))\n",
    "sns.scatterplot(df_activity, x='loan_amount', y='funded_amount', hue='term_in_months', palette='coolwarm', size='term_in_months', sizes=(20, 200))\n",
    "plt.axline((0, 0), slope=1, color='red', linestyle='dashed', linewidth=1.5)\n",
    "plt.title(\"Loan Amount vs Funded Amount\")\n",
    "plt.xlabel(\"Loan Amount\")\n",
    "plt.ylabel(\"Funded Amount\")\n",
    "plt.legend(title=\"Term (months)\")\n",
    "\n",
    "plt.show()"
   ]
  },
  {
   "cell_type": "markdown",
   "metadata": {},
   "source": [
    "- Jika banyak titik berada di atas garis merah, berarti `funded amount` lebih besar dari `loan amount` yang diminta.\n",
    "- Jika banyak titik di bawah garis merah, berarti `funded amount` tidak mencapai jumlah `loan amount` yang diminta."
   ]
  },
  {
   "cell_type": "markdown",
   "metadata": {},
   "source": [
    "Insight : \n",
    "Loan Amount vs. Funded Amount\n",
    "\n",
    "- Mayoritas pinjaman memiliki nilai Loan Amount yang hampir sama dengan Funded Amount, yang menunjukkan bahwa pengajuan pinjaman umumnya didanai sepenuhnya.\n",
    "- Beberapa titik di bawah garis diagonal mengindikasikan bahwa ada pinjaman yang tidak sepenuhnya didanai.\n",
    "- Pinjaman dengan tenor lebih panjang (40 bulan) cenderung memiliki jumlah pinjaman lebih besar dibandingkan tenor yang lebih pendek."
   ]
  },
  {
   "cell_type": "markdown",
   "metadata": {},
   "source": [
    "## **Hypotesis Testing**"
   ]
  },
  {
   "cell_type": "code",
   "execution_count": 21,
   "metadata": {},
   "outputs": [
    {
     "name": "stdout",
     "output_type": "stream",
     "text": [
      "P-Value Loan Amount: 6.751093632584675e-42\n",
      "P-Value Funded Amount: 3.477519368508482e-42\n",
      "Salah satu variabel tidak normal.\n",
      "Salah satu variabel tidak normal.\n"
     ]
    }
   ],
   "source": [
    "from scipy.stats import shapiro\n",
    "\n",
    "stat_loan, p_loan = shapiro(df_activity['loan_amount'])\n",
    "stat_funded, p_funded = shapiro(df_activity['funded_amount'])\n",
    "\n",
    "print(f\"P-Value Loan Amount: {p_loan}\")\n",
    "print(f\"P-Value Funded Amount: {p_funded}\")\n",
    "\n",
    "if p_loan > 0.05:\n",
    "    print(\"Kedua variabel berdistribusi normal.\")\n",
    "else:\n",
    "    print(\"Salah satu variabel tidak normal.\")\n",
    "    \n",
    "if p_funded > 0.05:\n",
    "    print(\"Kedua variabel berdistribusi normal.\")\n",
    "else:\n",
    "    print(\"Salah satu variabel tidak normal.\")"
   ]
  },
  {
   "cell_type": "code",
   "execution_count": 22,
   "metadata": {},
   "outputs": [
    {
     "name": "stdout",
     "output_type": "stream",
     "text": [
      "Korelasi: 0.973415305233122\n",
      "P-Value: 0.0\n",
      "Tidak terdapat hubungan yang signifikan antara loan_amount dan funded_amount.\n"
     ]
    }
   ],
   "source": [
    "from scipy.stats import pearsonr\n",
    "\n",
    "corr, p_value = pearsonr(df_activity['loan_amount'], df_activity['funded_amount'])\n",
    "\n",
    "print(f\"Korelasi: {corr}\")\n",
    "print(f\"P-Value: {p_value}\")\n",
    "\n",
    "alpha = 0.05\n",
    "if p_value > alpha:\n",
    "    print(\"Terdapat hubungan yang signifikan antara loan_amount dan funded_amount.\")\n",
    "else:\n",
    "    print(\"Tidak terdapat hubungan yang signifikan antara loan_amount dan funded_amount.\")\n"
   ]
  },
  {
   "cell_type": "code",
   "execution_count": 23,
   "metadata": {},
   "outputs": [
    {
     "name": "stdout",
     "output_type": "stream",
     "text": [
      "korelasi: 0.9890664641889912\n",
      "P-Value: 0.0\n",
      "Tidak terdapat hubungan yang signifikan antara loan_amount dan funded_amount.\n"
     ]
    }
   ],
   "source": [
    "from scipy.stats import spearmanr\n",
    "\n",
    "corr2, p_value2 = spearmanr(df_activity['loan_amount'], df_activity['funded_amount'])\n",
    "print(f'korelasi: {corr2}')\n",
    "print(f'P-Value: {p_value2}')\n",
    "\n",
    "alpha = 0.05\n",
    "if p_value > alpha:\n",
    "    print(\"Terdapat hubungan yang signifikan antara loan_amount dan funded_amount.\")\n",
    "else:\n",
    "    print(\"Tidak terdapat hubungan yang signifikan antara loan_amount dan funded_amount.\")\n"
   ]
  },
  {
   "cell_type": "markdown",
   "metadata": {},
   "source": [
    "**C. Hubungan Aktivitas dengan Funded Amount**\n",
    "\n",
    "1. Memahami Pola Pendanaan Berdasarkan Aktivitas dan Sektor\n",
    "    - Analisis bertujuan untuk melihat bagaimana dana yang diberikan (funded amount) didistribusikan di berbagai aktivitas usaha (seperti weaving, clothing sales, dll.) serta sektor ekonomi (Arts, Clothing, Retail). Dengan memahami pola ini, kita dapat mengidentifikasi sektor atau aktivitas yang lebih banyak menerima pendanaan.\n",
    "2. Mengidentifikasi Sektor yang Mendapatkan Pendanaan Terbesar\n",
    "    - Mengidentifikasi sektor yang dominan dalam menerima pendanaan.\n",
    "    - Mengetahui apakah ada kesenjangan pendanaan antar sektor yang perlu diperhatikan.\n",
    "3. Menganalisis Distribusi Pendanaan di Setiap Aktivitas\n",
    "    - Apakah ada aktivitas tertentu yang mendapatkan pendanaan lebih besar dibandingkan aktivitas lain.\n",
    "    - Variasi dalam jumlah pendanaan yang diberikan untuk setiap aktivitas."
   ]
  },
  {
   "cell_type": "code",
   "execution_count": 24,
   "metadata": {},
   "outputs": [
    {
     "data": {
      "image/png": "[encoded data removed]",
      "text/plain": [
       "<Figure size 1200x600 with 1 Axes>"
      ]
     },
     "metadata": {},
     "output_type": "display_data"
    }
   ],
   "source": [
    "plt.figure(figsize=(12,6))\n",
    "sns.boxplot(df_activity, x='activity', y='funded_amount')\n",
    "plt.xticks(rotation=360)\n",
    "plt.title(\"Distribusi Funded Amount per Aktivitas\")\n",
    "plt.xlabel(\"Activity\")\n",
    "plt.ylabel(\"Funded Amount (INR)\")\n",
    "plt.show()\n"
   ]
  },
  {
   "cell_type": "markdown",
   "metadata": {},
   "source": [
    "Insight :\n",
    "- Grafik ini menunjukkan distribusi jumlah pendanaan untuk berbagai aktivitas dalam bentuk boxplot.\n",
    "- Aktivitas \"Weaving\" memiliki pendanaan yang jauh lebih bervariasi dibandingkan aktivitas lainnya, dengan banyak outlier di kisaran 2000-4000 INR.\n",
    "- Aktivitas seperti \"Clothing Sales\" dan \"Clothing\" memiliki pendanaan yang lebih stabil, dengan median yang lebih rendah dan sedikit outlier.\n",
    "- Distribusi ini menunjukkan bahwa beberapa sektor memiliki peluang lebih tinggi untuk mendapatkan pendanaan yang besar."
   ]
  },
  {
   "cell_type": "markdown",
   "metadata": {},
   "source": [
    "## **Hypotesis Testing**"
   ]
  },
  {
   "cell_type": "code",
   "execution_count": 25,
   "metadata": {},
   "outputs": [
    {
     "name": "stdout",
     "output_type": "stream",
     "text": [
      "Normalitas Weaving: p-value = 2.994597699467014e-28\n",
      "Normalitas Clothing Sales: p-value = 1.0296784460741867e-33\n",
      "Normalitas Clothing: p-value = 5.338168441007765e-09\n",
      "Normalitas Cloth & Dressmaking Supplies: p-value = 5.950806274012296e-05\n",
      "Data tidak berdistribusi normal (tolak H0)\n"
     ]
    }
   ],
   "source": [
    "from scipy.stats import kruskal\n",
    "\n",
    "activities = df_activity['activity'].unique()\n",
    "for activity in activities:\n",
    "    stat, p_value = shapiro(df_activity[df_activity['activity'] == activity]['funded_amount'])\n",
    "    print(f'Normalitas {activity}: p-value = {p_value}')\n",
    "\n",
    "alpha = 0.05\n",
    "if p_value > alpha:\n",
    "    print(\"Data berdistribusi normal (gagal tolak H0)\")\n",
    "else:\n",
    "    print(\"Data tidak berdistribusi normal (tolak H0)\")"
   ]
  },
  {
   "cell_type": "code",
   "execution_count": 26,
   "metadata": {},
   "outputs": [
    {
     "name": "stdout",
     "output_type": "stream",
     "text": [
      "Kruskal-Wallis test: p-value = 0.2310366564859574\n",
      "Gagal menolak H0, tidak ada perbedaan signifikan dalam jumlah pendanaan antar aktivitas.\n"
     ]
    }
   ],
   "source": [
    "stat, p_kruskal = kruskal(\n",
    "    df_activity[df_activity['activity'] == 'Weaving']['funded_amount'],\n",
    "    df_activity[df_activity['activity'] == 'Clothing Sales']['funded_amount'],\n",
    "    df_activity[df_activity['activity'] == 'Clothing']['funded_amount'],\n",
    "    df_activity[df_activity['activity'] == 'Cloth & Dressmaking Supplies']['funded_amount']\n",
    ")\n",
    "print(f'Kruskal-Wallis test: p-value = {p_kruskal}')\n",
    "\n",
    "alpha = 0.05\n",
    "if p_value > alpha:\n",
    "    print('Menolak H0, ada perbedaan signifikan dalam jumlah pendanaan antar aktivitas.')\n",
    "else:\n",
    "    print('Gagal menolak H0, tidak ada perbedaan signifikan dalam jumlah pendanaan antar aktivitas.')"
   ]
  },
  {
   "cell_type": "code",
   "execution_count": 27,
   "metadata": {},
   "outputs": [
    {
     "data": {
      "image/png": "[encoded data removed]",
      "text/plain": [
       "<Figure size 1200x600 with 1 Axes>"
      ]
     },
     "metadata": {},
     "output_type": "display_data"
    }
   ],
   "source": [
    "df_sec = df_activity.groupby(\"sector\")[\"funded_amount\"].sum().reset_index()\n",
    "\n",
    "plt.figure(figsize=(12,6))\n",
    "sns.barplot(df_sec, x='sector', y='funded_amount', estimator=sum, errorbar=None, palette='Blues_r')\n",
    "plt.xticks(rotation=360)\n",
    "plt.title(\"Total Funded Amount per Sektor\")\n",
    "plt.xlabel(\"Sektor\")\n",
    "plt.ylabel(\"Total Funded Amount\")\n",
    "plt.show()\n"
   ]
  },
  {
   "cell_type": "markdown",
   "metadata": {},
   "source": [
    "Insight:\n",
    "- Grafik ini memperlihatkan total jumlah pendanaan yang diterima oleh setiap sektor.\n",
    "- Sektor `Arts` dan `Clothing` mendapatkan pendanaan yang sangat tinggi, hampir setara.\n",
    "- Sektor `Retail` memiliki pendanaan yang jauh lebih rendah dibandingkan dua sektor lainnya.\n",
    "- Hal ini dapat menunjukkan bahwa sektor `Arts` dan `Clothing` lebih banyak mendapatkan dukungan atau memiliki lebih banyak pelaku usaha yang mendapatkan pendanaan"
   ]
  },
  {
   "cell_type": "code",
   "execution_count": 28,
   "metadata": {},
   "outputs": [
    {
     "name": "stdout",
     "output_type": "stream",
     "text": [
      "Normalitas Arts: p-value = 2.994597699467014e-28\n",
      "Normalitas Clothing: p-value = 1.2844470403824511e-34\n",
      "Normalitas Retail: p-value = 5.950806274012296e-05\n",
      "Data tidak berdistribusi normal (tolak H0)\n"
     ]
    }
   ],
   "source": [
    "# Cek normalitas untuk setiap sector\n",
    "sectors = df_activity['sector'].unique()\n",
    "for sector in sectors:\n",
    "    stat, p_value = shapiro(df_activity[df_activity['sector'] == sector]['funded_amount'])\n",
    "    print(f'Normalitas {sector}: p-value = {p_value}')\n",
    "\n",
    "    alpha = 0.05\n",
    "if p_value > alpha:\n",
    "    print(\"Data berdistribusi normal (gagal tolak H0)\")\n",
    "else:\n",
    "    print(\"Data tidak berdistribusi normal (tolak H0)\")"
   ]
  },
  {
   "cell_type": "code",
   "execution_count": 29,
   "metadata": {},
   "outputs": [
    {
     "name": "stdout",
     "output_type": "stream",
     "text": [
      "Kruskal-Wallis test: p-value = 0.18286397296230297\n",
      "Gagal menolak H0, tidak ada perbedaan signifikan dalam total pendanaan diberbagai sector.\n"
     ]
    }
   ],
   "source": [
    "# Jika data tidak normal, gunakan Kruskal-Wallis\n",
    "stat, p_kruskal = kruskal(\n",
    "    df_activity[df_activity['sector'] == 'Arts']['funded_amount'],\n",
    "    df_activity[df_activity['sector'] == 'Clothing']['funded_amount'],\n",
    "    df_activity[df_activity['sector'] == 'Retail']['funded_amount']\n",
    ")\n",
    "print(f'Kruskal-Wallis test: p-value = {p_kruskal}')\n",
    "\n",
    "alpha = 0.05\n",
    "if p_value > alpha:\n",
    "    print('Menolak H0, ada perbedaan signifikan dalam total pendanaan dibebagai sector.')\n",
    "else:\n",
    "    print('Gagal menolak H0, tidak ada perbedaan signifikan dalam total pendanaan diberbagai sector.')"
   ]
  },
  {
   "cell_type": "markdown",
   "metadata": {},
   "source": [
    "## **Decision Making**"
   ]
  },
  {
   "cell_type": "markdown",
   "metadata": {},
   "source": [
    "\n",
    "## 1. Analisis Pola Repayment Interval Berdasarkan Term in Months\n",
    "\n",
    "- Menentukan apakah repayment interval \"bullet\" cocok untuk sektor tertentu seperti Weaving dan Clothing.\n",
    "- Jika mayoritas pinjaman memiliki durasi panjang dengan repayment \"bullet\", dapat dipertimbangkan model pembayaran lain untuk meningkatkan fleksibilitas pembayaran bagi peminjam.\n",
    "- Jika sektor tertentu memiliki tren durasi pinjaman yang lebih pendek, dapat direkomendasikan kebijakan yang mendukung pendanaan lebih cepat.\n",
    "\n",
    "## 2. Analisis Funded Amount dan Loan Amount Berdasarkan Term in Months\n",
    "\n",
    "- Jika terdapat kesenjangan signifikan antara funded_amount dan loan_amount, dapat dilakukan evaluasi terhadap faktor yang mempengaruhi pendanaan penuh atau sebagian.\n",
    "- Jika pinjaman jangka panjang lebih sulit didanai, maka bisa dipertimbangkan strategi untuk menarik lender dengan insentif lebih besar.\n",
    "- Jika pinjaman jangka pendek lebih mudah didanai, bisa dikembangkan strategi pendanaan yang mempercepat siklus kredit bagi peminjam.\n",
    "\n",
    "## 3. Hubungan Aktivitas dengan Funded Amount\n",
    "\n",
    "- Jika sektor tertentu mendapatkan pendanaan lebih besar dibanding sektor lain, maka dapat menjadi prioritas dalam kebijakan pinjaman.\n",
    "- Jika sektor tertentu sulit mendapatkan pendanaan, dapat dieksplorasi pendekatan lain seperti program insentif bagi lender atau restrukturisasi pinjaman untuk meningkatkan daya tariknya.\n",
    "- Menganalisis apakah jenis aktivitas bisnis tertentu lebih berisiko sehingga membutuhkan perubahan strategi pendanaan.\n",
    "\n",
    "Keputusan ini dapat membantu optimalisasi kebijakan pinjaman, meningkatkan efisiensi pendanaan, serta memastikan bahwa pinjaman yang diberikan sesuai dengan kebutuhan peminjam dan minat lender.\n"
   ]
  },
  {
   "cell_type": "code",
   "execution_count": null,
   "metadata": {},
   "outputs": [],
   "source": [
    "df.to_csv('kiva_loan_Exer.csv', index=False)"
   ]
  }
 ],
 "metadata": {
  "kernelspec": {
   "display_name": "base",
   "language": "python",
   "name": "python3"
  },
  "language_info": {
   "codemirror_mode": {
    "name": "ipython",
    "version": 3
   },
   "file_extension": ".py",
   "mimetype": "text/x-python",
   "name": "python",
   "nbconvert_exporter": "python",
   "pygments_lexer": "ipython3",
   "version": "3.12.7"
  }
 },
 "nbformat": 4,
 "nbformat_minor": 2
}
